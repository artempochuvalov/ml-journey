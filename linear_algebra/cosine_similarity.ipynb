{
 "cells": [
  {
   "cell_type": "code",
   "execution_count": 1,
   "id": "06e7b53a",
   "metadata": {},
   "outputs": [],
   "source": [
    "import numpy as np"
   ]
  },
  {
   "cell_type": "code",
   "execution_count": 2,
   "id": "92802eed",
   "metadata": {},
   "outputs": [],
   "source": [
    "A = np.array([1, 2, 3])\n",
    "B = np.array([3, -2, 1])\n",
    "\n",
    "cosine_similarity = (np.dot(A, B)) / (np.linalg.norm(A) * np.linalg.norm(B))"
   ]
  },
  {
   "cell_type": "code",
   "execution_count": 3,
   "id": "6e56fc95",
   "metadata": {},
   "outputs": [
    {
     "name": "stdout",
     "output_type": "stream",
     "text": [
      "0.14285714285714285\n"
     ]
    }
   ],
   "source": [
    "print(cosine_similarity)"
   ]
  },
  {
   "cell_type": "code",
   "execution_count": null,
   "id": "10772a33",
   "metadata": {},
   "outputs": [],
   "source": [
    "def pairwise_cosine_similarity(A, B):\n",
    "\tS = A @ B.T\n",
    "\n",
    "\tA_norm = np.linalg.norm(A, axis=1, keepdims=True)\n",
    "\tB_norm = np.linalg.norm(B, axis=1, keepdims=True)\n",
    "\n",
    "\tN = A_norm @ B_norm.T\n",
    "\n",
    "\tprint(B_norm)"
   ]
  },
  {
   "cell_type": "code",
   "execution_count": null,
   "id": "bc7570e4",
   "metadata": {},
   "outputs": [],
   "source": [
    "A = np.array([[1, 2, 3],\n",
    "              [4, 5, 6]])\n",
    "\n",
    "B = np.array([[1, 0, 0],\n",
    "              [0, 1, 0],\n",
    "              [1, 2, 3]])"
   ]
  },
  {
   "cell_type": "code",
   "execution_count": 12,
   "id": "60c0f48c",
   "metadata": {},
   "outputs": [
    {
     "name": "stdout",
     "output_type": "stream",
     "text": [
      "[[1.        ]\n",
      " [1.        ]\n",
      " [3.74165739]]\n",
      "None\n"
     ]
    }
   ],
   "source": [
    "print(pairwise_cosine_similarity(A, B))"
   ]
  },
  {
   "cell_type": "code",
   "execution_count": null,
   "id": "ec7fd3d4",
   "metadata": {},
   "outputs": [],
   "source": []
  }
 ],
 "metadata": {
  "kernelspec": {
   "display_name": "venv",
   "language": "python",
   "name": "python3"
  },
  "language_info": {
   "codemirror_mode": {
    "name": "ipython",
    "version": 3
   },
   "file_extension": ".py",
   "mimetype": "text/x-python",
   "name": "python",
   "nbconvert_exporter": "python",
   "pygments_lexer": "ipython3",
   "version": "3.11.3"
  }
 },
 "nbformat": 4,
 "nbformat_minor": 5
}
