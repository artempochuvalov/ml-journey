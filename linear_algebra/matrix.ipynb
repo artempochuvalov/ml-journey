{
 "cells": [
  {
   "cell_type": "code",
   "execution_count": 1,
   "id": "da180a6f",
   "metadata": {},
   "outputs": [],
   "source": [
    "import numpy as np"
   ]
  },
  {
   "cell_type": "code",
   "execution_count": 14,
   "id": "8601ef51",
   "metadata": {},
   "outputs": [],
   "source": [
    "A = np.array([[2, 0], [3, 1], [4, 5]])\n",
    "B = np.array([[3, 1, -1], [4, -2, 2]])\n",
    "C = np.array([[2, 0], [0, 2]])"
   ]
  },
  {
   "cell_type": "code",
   "execution_count": 15,
   "id": "9ecc5e35",
   "metadata": {},
   "outputs": [
    {
     "name": "stdout",
     "output_type": "stream",
     "text": [
      "[[2 3 4]\n",
      " [0 1 5]]\n",
      "[[ 6  2 -2]\n",
      " [13  1 -1]\n",
      " [32 -6  6]]\n",
      "1.144917494144693e-14\n",
      "[[0.5 0. ]\n",
      " [0.  0.5]]\n"
     ]
    }
   ],
   "source": [
    "print(A.T)\n",
    "product = np.dot(A, B)\n",
    "print(product)\n",
    "print(np.linalg.det(product))\n",
    "print(np.linalg.inv(C))"
   ]
  }
 ],
 "metadata": {
  "kernelspec": {
   "display_name": "venv",
   "language": "python",
   "name": "python3"
  },
  "language_info": {
   "codemirror_mode": {
    "name": "ipython",
    "version": 3
   },
   "file_extension": ".py",
   "mimetype": "text/x-python",
   "name": "python",
   "nbconvert_exporter": "python",
   "pygments_lexer": "ipython3",
   "version": "3.11.3"
  }
 },
 "nbformat": 4,
 "nbformat_minor": 5
}
