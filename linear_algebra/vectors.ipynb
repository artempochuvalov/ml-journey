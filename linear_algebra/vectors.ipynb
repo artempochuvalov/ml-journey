{
 "cells": [
  {
   "cell_type": "code",
   "execution_count": null,
   "id": "c8ce8c0e",
   "metadata": {},
   "outputs": [],
   "source": [
    "import numpy as np"
   ]
  },
  {
   "cell_type": "code",
   "execution_count": 3,
   "id": "df174f26",
   "metadata": {},
   "outputs": [],
   "source": [
    "v1 = np.array([2, 3, 1])\n",
    "v2 = np.array([3, 4, 2])"
   ]
  },
  {
   "cell_type": "code",
   "execution_count": 4,
   "id": "36f93a81",
   "metadata": {},
   "outputs": [
    {
     "name": "stdout",
     "output_type": "stream",
     "text": [
      "[5 7 3]\n",
      "[4 6 2]\n",
      "[4 6 2]\n",
      "[ 2 -1 -1]\n",
      "3.7416573867739413\n"
     ]
    }
   ],
   "source": [
    "print(v1 + v2)\n",
    "print(2 * v1)\n",
    "print(np.dot(v1, 2))\n",
    "print(np.cross(v1, v2))\n",
    "print(np.linalg.norm(v1))"
   ]
  },
  {
   "cell_type": "code",
   "execution_count": null,
   "id": "e6dd19ca",
   "metadata": {},
   "outputs": [],
   "source": []
  }
 ],
 "metadata": {
  "kernelspec": {
   "display_name": "venv",
   "language": "python",
   "name": "python3"
  },
  "language_info": {
   "codemirror_mode": {
    "name": "ipython",
    "version": 3
   },
   "file_extension": ".py",
   "mimetype": "text/x-python",
   "name": "python",
   "nbconvert_exporter": "python",
   "pygments_lexer": "ipython3",
   "version": "3.11.3"
  }
 },
 "nbformat": 4,
 "nbformat_minor": 5
}
