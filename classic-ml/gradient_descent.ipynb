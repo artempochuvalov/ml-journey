{
 "cells": [
  {
   "cell_type": "code",
   "execution_count": 1,
   "id": "0a2eaab3",
   "metadata": {},
   "outputs": [],
   "source": [
    "import numpy as np\n",
    "from sklearn.linear_model import LinearRegression"
   ]
  },
  {
   "cell_type": "code",
   "execution_count": 2,
   "id": "08a48be2",
   "metadata": {},
   "outputs": [],
   "source": [
    "X = np.array([\n",
    "\t[30],\n",
    "\t[40],\n",
    "\t[50],\n",
    "\t[60],\n",
    "\t[80],\n",
    "\t[100]\n",
    "])\n",
    "y = np.array([\n",
    "\t120000,\n",
    "\t150000,\n",
    "\t170000,\n",
    "\t200000,\n",
    "\t240000,\n",
    "\t280000\n",
    "])"
   ]
  },
  {
   "cell_type": "code",
   "execution_count": 3,
   "id": "29930d04",
   "metadata": {},
   "outputs": [],
   "source": [
    "X_mean = X.mean()\n",
    "X_std = X.std()\n",
    "X_norm = (X - X_mean) / X_std\n",
    "\n",
    "y_mean = y.mean()\n",
    "y_std = y.std()\n",
    "y_norm = (y - y_mean) / y_std\n",
    "\n",
    "X_aug = np.hstack([np.ones((X_norm.shape[0], 1)), X_norm])"
   ]
  },
  {
   "cell_type": "code",
   "execution_count": 4,
   "id": "b12b1153",
   "metadata": {},
   "outputs": [],
   "source": [
    "nu = 1e-2\n",
    "n_iterations = 1000\n",
    "\n",
    "w = np.zeros(X_aug.shape[1])"
   ]
  },
  {
   "cell_type": "code",
   "execution_count": 11,
   "id": "bbfadc13",
   "metadata": {},
   "outputs": [],
   "source": [
    "for i in range(n_iterations):\n",
    "\tw -= nu * ((2 / X_aug.shape[0]) * X_aug.T @ (X_aug @ w - y_norm))\n",
    "\n",
    "w_original = (y_std / X_std) * w[1]"
   ]
  },
  {
   "cell_type": "code",
   "execution_count": 12,
   "id": "daac0a03",
   "metadata": {},
   "outputs": [],
   "source": [
    "model = LinearRegression().fit(X, y)"
   ]
  },
  {
   "cell_type": "code",
   "execution_count": 13,
   "id": "83bfbbc8",
   "metadata": {},
   "outputs": [
    {
     "name": "stdout",
     "output_type": "stream",
     "text": [
      "Weights w calculated by myself:\n",
      "2264.7058823529346\n",
      "Weigthts calculated by sklearn:\n",
      "[2264.70588235]\n"
     ]
    }
   ],
   "source": [
    "print(f'Weights w calculated by myself:\\n{w_original}')\n",
    "print(f'Weigthts calculated by sklearn:\\n{model.coef_}')"
   ]
  }
 ],
 "metadata": {
  "kernelspec": {
   "display_name": "venv",
   "language": "python",
   "name": "python3"
  },
  "language_info": {
   "codemirror_mode": {
    "name": "ipython",
    "version": 3
   },
   "file_extension": ".py",
   "mimetype": "text/x-python",
   "name": "python",
   "nbconvert_exporter": "python",
   "pygments_lexer": "ipython3",
   "version": "3.11.3"
  }
 },
 "nbformat": 4,
 "nbformat_minor": 5
}
